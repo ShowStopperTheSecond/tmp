{
 "cells": [
  {
   "cell_type": "code",
   "execution_count": 1,
   "metadata": {
    "tags": []
   },
   "outputs": [],
   "source": [
    "# cd /kaggle/working"
   ]
  },
  {
   "cell_type": "code",
   "execution_count": 2,
   "metadata": {
    "_cell_guid": "b1076dfc-b9ad-4769-8c92-a6c4dae69d19",
    "_uuid": "8f2839f25d086af736a60e9eeb907d3b93b6e0e5",
    "tags": []
   },
   "outputs": [],
   "source": [
    "# !git clone https://github.com/naver/r2d2"
   ]
  },
  {
   "cell_type": "code",
   "execution_count": 3,
   "metadata": {
    "tags": []
   },
   "outputs": [],
   "source": [
    "# cd r2d2\n"
   ]
  },
  {
   "cell_type": "code",
   "execution_count": 9,
   "metadata": {
    "tags": []
   },
   "outputs": [],
   "source": [
    "import os, pdb\n",
    "import torch\n",
    "import torch.optim as optim\n",
    "\n",
    "from tools import common, trainer\n",
    "from tools.dataloader import *\n",
    "from nets.patchnet import *\n",
    "from nets.losses import *\n",
    "from PIL import Image, ImageOps\n",
    "from tqdm.notebook import tqdm \n"
   ]
  },
  {
   "cell_type": "code",
   "execution_count": 10,
   "metadata": {
    "tags": []
   },
   "outputs": [],
   "source": [
    "# try:\n",
    "#     DataPreparation\n",
    "# except NameError:\n",
    "#     os.system(\"cp -r /kaggle/input/naturalimages/ /tmp/dataset\")\n",
    "#     os.system(\"ln -s /tmp/dataset /kaggle/working/r2d2/data\")\n",
    "#     DataPreparation = True\n",
    "# else:\n",
    "#     pass"
   ]
  },
  {
   "cell_type": "code",
   "execution_count": 11,
   "metadata": {
    "tags": []
   },
   "outputs": [],
   "source": [
    "# !cp -r /kaggle/input/naturalimages/ /tmp/dataset\n",
    "!unlink data\n",
    "!ln -s /run/media/javid/App/DataSet/r2d2/ data"
   ]
  },
  {
   "cell_type": "code",
   "execution_count": 12,
   "metadata": {
    "tags": []
   },
   "outputs": [],
   "source": [
    "# ls /tmp/dataset"
   ]
  },
  {
   "cell_type": "code",
   "execution_count": 13,
   "metadata": {
    "tags": []
   },
   "outputs": [],
   "source": [
    "# ls"
   ]
  },
  {
   "cell_type": "code",
   "execution_count": 14,
   "metadata": {
    "tags": []
   },
   "outputs": [
    {
     "name": "stderr",
     "output_type": "stream",
     "text": [
      "Dataset SAR_db_images not available, reason: Empty SAR dataset\n"
     ]
    }
   ],
   "source": [
    "from  datasets import *"
   ]
  },
  {
   "cell_type": "code",
   "execution_count": 15,
   "metadata": {
    "tags": []
   },
   "outputs": [],
   "source": [
    "class StillTransform (object):\n",
    "    \"\"\" Takes and return an image, without changing its shape or geometry.\n",
    "    \"\"\"\n",
    "    def _transform(self, img):\n",
    "        raise NotImplementedError()\n",
    "        \n",
    "    def __call__(self, inp):\n",
    "        img = F.grab_img(inp)\n",
    "\n",
    "        # transform the image (size should not change)\n",
    "        try:\n",
    "            img = self._transform(img)\n",
    "        except TypeError:\n",
    "            pass\n",
    "\n",
    "        return F.update_img_and_labels(inp, img, persp=(1,0,0,0,1,0,0,0))\n",
    "\n",
    "    \n",
    "class PixelSpeckleNoise (StillTransform):\n",
    "    \"\"\" Takes an image, and add random white noise.\n",
    "    \"\"\"\n",
    "    def __init__(self, var=.05, seed=None):\n",
    "        StillTransform.__init__(self)\n",
    "        assert 0 <= var < 1\n",
    "        self.var = var\n",
    "        self.seed = seed\n",
    "\n",
    "    def __repr__(self):\n",
    "        return \"PixelSpeckleNoise(%g)\" % self.var\n",
    "    \n",
    "    def normalize(self, img,minimum=0, maximum=1):\n",
    "        img_max = np.max(img)\n",
    "        img_min = np.min(img)\n",
    "        return (img-img_min)/np.abs(img_max-img_min)*(maximum-minimum)+minimum\n",
    "\n",
    "    def _transform(self, img):\n",
    "        normalized_img = self.normalize(img)\n",
    "        upper_band = (12*self.var)**.5\n",
    "        np.random.seed(self.seed)\n",
    "        noise = np.random.uniform(-upper_band/2,upper_band/2,size=img.shape)\n",
    "        noisy_img = normalized_img*(1+noise)\n",
    "        noisy_img = np.clip(noisy_img,0,1)\n",
    "        ret_val = self.normalize(noisy_img,maximum=255)\n",
    "        return  Image.fromarray(np.uint8(ret_val))\n",
    "    \n",
    "class PixelNoise (StillTransform):\n",
    "    \"\"\" Takes an image, and add random white noise.\n",
    "    \"\"\"\n",
    "    def __init__(self, ampl=20):\n",
    "        StillTransform.__init__(self)\n",
    "        assert 0 <= ampl < 255\n",
    "        self.ampl = ampl\n",
    "\n",
    "    def __repr__(self):\n",
    "        return \"PixelNoise(%g)\" % self.ampl\n",
    "\n",
    "    def _transform(self, img):\n",
    "        img = np.float32(img)\n",
    "        img += np.random.uniform(0.5-self.ampl/2, 0.5+self.ampl/2, size=img.shape)\n",
    "        return Image.fromarray(np.uint8(img.clip(0,255)))\n"
   ]
  },
  {
   "cell_type": "code",
   "execution_count": 16,
   "metadata": {
    "tags": []
   },
   "outputs": [],
   "source": [
    "# default_net = \"Quad_L2Net_ConfCFS()\"\n",
    "default_net = \"Custom_Quad_L2Net_ConfCFS()\"\n",
    "\n",
    "\n",
    "toy_db_debug = \"\"\"SyntheticPairDataset(\n",
    "    ImgFolder('imgs'), \n",
    "            'RandomScale(256,1024,can_upscale=True)', \n",
    "            'RandomTilting(0.5), PixelSpeckleNoise(.5)')\"\"\"\n",
    "\n",
    "db_web_images = \"\"\"SyntheticPairDataset(\n",
    "    web_images, \n",
    "        'RandomScale(256,1024,can_upscale=True)',\n",
    "        'RandomTilting(0.5), PixelSpeckleNoise(.5)')\"\"\"\n",
    "\n",
    "db_aachen_images = \"\"\"SyntheticPairDataset(\n",
    "    aachen_db_images, \n",
    "        'RandomScale(256,1024,can_upscale=True)', \n",
    "        'RandomTilting(0.5), PixelSpeckleNoise(.5)')\"\"\"\n",
    "\n",
    "db_aachen_style_transfer = \"\"\"TransformedPairs(\n",
    "    aachen_style_transfer_pairs,\n",
    "            'RandomScale(256,1024,can_upscale=True), RandomTilting(0.5), PixelSpeckleNoise(.5)')\"\"\"\n",
    "\n",
    "db_aachen_flow = \"aachen_flow_pairs\"\n",
    "\n",
    "\n",
    "db_sar_images = \"\"\"SyntheticPairDataset(\n",
    "    sar_db_images, \n",
    "        'RandomScale(256,1024,can_upscale=True)', \n",
    "        'RandomTilting(0.5), PixelSpeckleNoise(.5)')\"\"\"\n",
    "\n"
   ]
  },
  {
   "cell_type": "code",
   "execution_count": 17,
   "metadata": {
    "tags": []
   },
   "outputs": [],
   "source": [
    "\n",
    "default_dataloader = \"\"\"PairLoader(CatPairDataset(`data`),\n",
    "    scale   = 'RandomScale(256,1024,can_upscale=True)',\n",
    "    distort = 'ColorJitter(0.2,0.2,0.2,0.1)',\n",
    "    crop    = 'RandomCrop(192)')\"\"\"\n",
    "\n",
    "# default_sampler = \"\"\"NghSampler2(ngh=7, subq=-8, subd=1, pos_d=3, neg_d=5, border=16,\n",
    "#                             subd_neg=-8,maxpool_pos=True)\"\"\"\n",
    "\n",
    "default_sampler = \"\"\"DoubleDescNghSampler2(ngh=7, subq=-8, subd=1, pos_d=3, neg_d=5, border=16,\n",
    "                            subd_neg=-8,maxpool_pos=True, desc_dim=128)\"\"\"\n",
    "\n",
    "\n",
    "\n",
    "\n",
    "default_loss = \"\"\"MultiLoss(\n",
    "        1, ReliabilityLoss(`sampler`, base=0.5, nq=20),\n",
    "        1, CosimLoss(N=`N`),\n",
    "        1, PeakyLoss(N=`N`))\"\"\"\n"
   ]
  },
  {
   "cell_type": "code",
   "execution_count": 18,
   "metadata": {
    "tags": []
   },
   "outputs": [],
   "source": [
    "data_sources = dict(\n",
    "#     D = toy_db_debug,\n",
    "#     W = db_web_images,\n",
    "    A = db_aachen_images,\n",
    "#     F = db_aachen_flow,\n",
    "#     S = db_aachen_style_transfer,\n",
    "#     X = db_sar_images\n",
    "    )\n"
   ]
  },
  {
   "cell_type": "code",
   "execution_count": 19,
   "metadata": {
    "tags": []
   },
   "outputs": [],
   "source": [
    "class MyTrainer(trainer.Trainer):\n",
    "    \"\"\" This class implements the network training.\n",
    "        Below is the function I need to overload to explain how to do the backprop.\n",
    "    \"\"\"\n",
    "    def forward_backward(self, inputs):\n",
    "        output = self.net(imgs=[inputs.pop('img1'),inputs.pop('img2')])\n",
    "        allvars = dict(inputs, **output)\n",
    "        loss, details = self.loss_func(**allvars)\n",
    "        if torch.is_grad_enabled(): loss.backward()\n",
    "        return loss, details\n",
    "\n"
   ]
  },
  {
   "cell_type": "code",
   "execution_count": 20,
   "metadata": {
    "tags": []
   },
   "outputs": [],
   "source": [
    "\n",
    "def load_network(model_fn): \n",
    "    checkpoint = torch.load(model_fn)\n",
    "    print(\"\\n>> Creating net = \" + checkpoint['net']) \n",
    "    net = eval(checkpoint['net'])\n",
    "    nb_of_weights = common.model_size(net)\n",
    "    print(f\" ( Model size: {nb_of_weights/1000:.0f}K parameters )\")\n",
    "\n",
    "    # initialization\n",
    "    weights = checkpoint['state_dict']\n",
    "    net.load_state_dict({k.replace('module.',''):v for k,v in weights.items()})\n",
    "    return net.eval()\n"
   ]
  },
  {
   "cell_type": "code",
   "execution_count": 21,
   "metadata": {
    "tags": []
   },
   "outputs": [],
   "source": [
    "mkdir trained_models"
   ]
  },
  {
   "cell_type": "code",
   "execution_count": 26,
   "metadata": {
    "tags": []
   },
   "outputs": [],
   "source": [
    "save_path = \"./trained_models\"\n",
    "gpu = 0\n",
    "train_data = \"A\"\n",
    "data_loader = default_dataloader\n",
    "threads = 8\n",
    "batch_size = 8\n",
    "net = default_net\n",
    "sampler = default_sampler\n",
    "N = patch_size = 16 \n",
    "loss = default_loss\n",
    "learning_rate = 1e-4\n",
    "weight_decay = 5e-4\n",
    "epochs = 10\n",
    "network_path = \"./models/faster2d2_WASF_N16.pt\""
   ]
  },
  {
   "cell_type": "code",
   "execution_count": 27,
   "metadata": {
    "tags": []
   },
   "outputs": [
    {
     "name": "stdout",
     "output_type": "stream",
     "text": [
      "Launching on GPUs 0\n"
     ]
    }
   ],
   "source": [
    "iscuda = common.torch_set_gpu(gpu)\n",
    "common.mkdir_for(save_path)\n"
   ]
  },
  {
   "cell_type": "code",
   "execution_count": 28,
   "metadata": {},
   "outputs": [],
   "source": [
    "db = [data_sources[key] for key in train_data]\n"
   ]
  },
  {
   "cell_type": "code",
   "execution_count": 29,
   "metadata": {},
   "outputs": [
    {
     "data": {
      "text/plain": [
       "\"PairLoader(CatPairDataset(SyntheticPairDataset(    aachen_db_images,         'RandomScale(256,1024,can_upscale=True)',         'RandomTilting(0.5), PixelSpeckleNoise(.5)')),    scale   = 'RandomScale(256,1024,can_upscale=True)',    distort = 'ColorJitter(0.2,0.2,0.2,0.1)',    crop    = 'RandomCrop(192)')\""
      ]
     },
     "execution_count": 29,
     "metadata": {},
     "output_type": "execute_result"
    }
   ],
   "source": [
    "data_loader.replace('`data`',','.join(db)).replace('\\n','')"
   ]
  },
  {
   "cell_type": "code",
   "execution_count": 30,
   "metadata": {
    "tags": []
   },
   "outputs": [
    {
     "name": "stdout",
     "output_type": "stream",
     "text": [
      "Training image database = PairLoader\n",
      "CatPairDataset(Dataset: SyntheticPairDataset   4479 images and pairs   root: data/aachen...   Scale: Compose(    RandomScale(0))   Distort: Compose(    RandomTilt(0.5, 'all')    PixelSpeckleNoise(0.5)) )  npairs: 4479\n",
      "  Distort: ColorJitter(0.2,0.2,0.2,0.1), \n",
      "  Crop: RandomCrop((192, 192)), \n",
      "  Norm: ToTensor(),  Normalize(mean=[0.485, 0.456, 0.406], std=[0.229, 0.224, 0.225]), \n",
      "\n"
     ]
    }
   ],
   "source": [
    "# Create data loader\n",
    "db = [data_sources[key] for key in train_data]\n",
    "db = eval(data_loader.replace('`data`',','.join(db)).replace('\\n',''))\n",
    "print(\"Training image database =\", db)\n",
    "loader = threaded_loader(db, False, threads, batch_size, shuffle=True)\n"
   ]
  },
  {
   "cell_type": "code",
   "execution_count": 31,
   "metadata": {
    "scrolled": true,
    "tags": []
   },
   "outputs": [
    {
     "name": "stderr",
     "output_type": "stream",
     "text": [
      "/home/javid/.conda/envs/tensorflow/lib/python3.8/site-packages/torchvision/transforms/functional.py:133: UserWarning: The given NumPy array is not writable, and PyTorch does not support non-writable tensors. This means writing to this tensor will result in undefined behavior. You may want to copy the array to protect its data or make it writable before converting it to a tensor. This type of warning will be suppressed for the rest of this program. (Triggered internally at  ../torch/csrc/utils/tensor_numpy.cpp:178.)\n",
      "  img = torch.from_numpy(pic.transpose((2, 0, 1))).contiguous()\n",
      "/home/javid/.conda/envs/tensorflow/lib/python3.8/site-packages/torchvision/transforms/functional.py:133: UserWarning: The given NumPy array is not writable, and PyTorch does not support non-writable tensors. This means writing to this tensor will result in undefined behavior. You may want to copy the array to protect its data or make it writable before converting it to a tensor. This type of warning will be suppressed for the rest of this program. (Triggered internally at  ../torch/csrc/utils/tensor_numpy.cpp:178.)\n",
      "  img = torch.from_numpy(pic.transpose((2, 0, 1))).contiguous()\n",
      "/home/javid/.conda/envs/tensorflow/lib/python3.8/site-packages/torchvision/transforms/functional.py:133: UserWarning: The given NumPy array is not writable, and PyTorch does not support non-writable tensors. This means writing to this tensor will result in undefined behavior. You may want to copy the array to protect its data or make it writable before converting it to a tensor. This type of warning will be suppressed for the rest of this program. (Triggered internally at  ../torch/csrc/utils/tensor_numpy.cpp:178.)\n",
      "  img = torch.from_numpy(pic.transpose((2, 0, 1))).contiguous()\n",
      "/home/javid/.conda/envs/tensorflow/lib/python3.8/site-packages/torchvision/transforms/functional.py:133: UserWarning: The given NumPy array is not writable, and PyTorch does not support non-writable tensors. This means writing to this tensor will result in undefined behavior. You may want to copy the array to protect its data or make it writable before converting it to a tensor. This type of warning will be suppressed for the rest of this program. (Triggered internally at  ../torch/csrc/utils/tensor_numpy.cpp:178.)\n",
      "  img = torch.from_numpy(pic.transpose((2, 0, 1))).contiguous()\n",
      "/home/javid/.conda/envs/tensorflow/lib/python3.8/site-packages/torchvision/transforms/functional.py:133: UserWarning: The given NumPy array is not writable, and PyTorch does not support non-writable tensors. This means writing to this tensor will result in undefined behavior. You may want to copy the array to protect its data or make it writable before converting it to a tensor. This type of warning will be suppressed for the rest of this program. (Triggered internally at  ../torch/csrc/utils/tensor_numpy.cpp:178.)\n",
      "  img = torch.from_numpy(pic.transpose((2, 0, 1))).contiguous()\n",
      "/home/javid/.conda/envs/tensorflow/lib/python3.8/site-packages/torchvision/transforms/functional.py:133: UserWarning: The given NumPy array is not writable, and PyTorch does not support non-writable tensors. This means writing to this tensor will result in undefined behavior. You may want to copy the array to protect its data or make it writable before converting it to a tensor. This type of warning will be suppressed for the rest of this program. (Triggered internally at  ../torch/csrc/utils/tensor_numpy.cpp:178.)\n",
      "  img = torch.from_numpy(pic.transpose((2, 0, 1))).contiguous()\n",
      "/home/javid/.conda/envs/tensorflow/lib/python3.8/site-packages/torchvision/transforms/functional.py:133: UserWarning: The given NumPy array is not writable, and PyTorch does not support non-writable tensors. This means writing to this tensor will result in undefined behavior. You may want to copy the array to protect its data or make it writable before converting it to a tensor. This type of warning will be suppressed for the rest of this program. (Triggered internally at  ../torch/csrc/utils/tensor_numpy.cpp:178.)\n",
      "  img = torch.from_numpy(pic.transpose((2, 0, 1))).contiguous()\n",
      "/home/javid/.conda/envs/tensorflow/lib/python3.8/site-packages/torchvision/transforms/functional.py:133: UserWarning: The given NumPy array is not writable, and PyTorch does not support non-writable tensors. This means writing to this tensor will result in undefined behavior. You may want to copy the array to protect its data or make it writable before converting it to a tensor. This type of warning will be suppressed for the rest of this program. (Triggered internally at  ../torch/csrc/utils/tensor_numpy.cpp:178.)\n",
      "  img = torch.from_numpy(pic.transpose((2, 0, 1))).contiguous()\n",
      "/run/media/javid/Entertainment/arco_home/ml/projects/p30_thesis/r2d2_sar/tools/dataloader.py:302: UserWarning: An output with one or more elements was resized since it had shape [884736], which does not match the required output shape [8, 3, 192, 192].This behavior is deprecated, and in a future PyTorch release outputs will not be resized unless they have zero elements. You can explicitly reuse an out tensor t by resizing it, inplace, to zero elements with t.resize_(0). (Triggered internally at  ../aten/src/ATen/native/Resize.cpp:24.)\n",
      "  return torch.stack(batch, 0, out=out)\n"
     ]
    },
    {
     "name": "stdout",
     "output_type": "stream",
     "text": [
      "{'img1': tensor([[[[ 1.1700,  1.1015,  1.1700,  ...,  1.1872,  0.9817,  0.7248],\n",
      "          [ 0.9303,  0.9988,  1.3584,  ...,  0.5707,  0.5878,  0.5364],\n",
      "          [ 0.7591,  0.8789,  0.9646,  ...,  0.6392,  0.6734,  0.6221],\n",
      "          ...,\n",
      "          [-1.4672, -1.3815, -1.3473,  ..., -1.2617, -1.1932, -1.2788],\n",
      "          [-1.3473, -1.2959, -1.4158,  ..., -1.2445, -1.1932, -1.2788],\n",
      "          [-1.4843, -1.4843, -1.3987,  ..., -1.3644, -1.2445, -1.2788]],\n",
      "\n",
      "         [[ 1.0630,  0.9930,  1.0630,  ...,  1.0630,  0.8354,  0.5903],\n",
      "          [ 0.8354,  0.9230,  1.2556,  ...,  0.4153,  0.4328,  0.3627],\n",
      "          [ 0.6429,  0.7479,  0.8354,  ...,  0.5378,  0.5203,  0.4503],\n",
      "          ...,\n",
      "          [-1.1429, -1.0553, -1.0378,  ..., -0.9853, -0.9328, -1.0203],\n",
      "          [-1.0203, -0.9853, -1.1078,  ..., -0.9853, -0.8978, -0.9853],\n",
      "          [-1.1604, -1.1779, -1.0903,  ..., -1.1078, -0.9328, -0.9328]],\n",
      "\n",
      "         [[ 0.8971,  0.8274,  0.8971,  ...,  0.8448,  0.7054,  0.5311],\n",
      "          [ 0.6879,  0.7576,  1.0714,  ...,  0.3393,  0.3742,  0.3568],\n",
      "          [ 0.4788,  0.6182,  0.6879,  ...,  0.4614,  0.4265,  0.3568],\n",
      "          ...,\n",
      "          [-0.6715, -0.6018, -0.5670,  ..., -0.6018, -0.5495, -0.6193],\n",
      "          [-0.5670, -0.5147, -0.6018,  ..., -0.6018, -0.5147, -0.6018],\n",
      "          [-0.7064, -0.6890, -0.5844,  ..., -0.7238, -0.5495, -0.5495]]],\n",
      "\n",
      "\n",
      "        [[[-1.3987, -1.3644, -1.6898,  ..., -0.5767, -1.1589, -1.3815],\n",
      "          [-1.3987, -1.3815, -1.7240,  ..., -0.4911, -0.9877, -1.1418],\n",
      "          [-1.3987, -1.4158, -1.7412,  ..., -0.5082, -0.9534, -1.1418],\n",
      "          ...,\n",
      "          [ 0.7591,  0.7591,  0.7762,  ..., -1.9467, -1.9467, -1.9124],\n",
      "          [ 0.7591,  0.7591,  0.7762,  ..., -1.9980, -2.0152, -1.9638],\n",
      "          [ 0.7591,  0.7591,  0.7762,  ..., -1.9809, -1.9980, -1.9809]],\n",
      "\n",
      "         [[-1.2304, -1.1779, -1.5105,  ..., -0.3375, -0.9678, -1.2304],\n",
      "          [-1.2479, -1.1779, -1.5280,  ..., -0.2325, -0.7227, -0.8978],\n",
      "          [-1.2829, -1.1954, -1.5280,  ..., -0.2325, -0.6527, -0.8452],\n",
      "          ...,\n",
      "          [-1.9132, -1.9132, -1.9132,  ..., -1.8431, -1.8256, -1.8081],\n",
      "          [-1.9132, -1.9132, -1.9132,  ..., -1.8957, -1.8957, -1.8431],\n",
      "          [-1.9132, -1.9132, -1.9132,  ..., -1.8782, -1.8782, -1.8606]],\n",
      "\n",
      "         [[-1.0724, -0.9853, -1.2990,  ..., -0.0267, -0.7761, -1.0201],\n",
      "          [-1.0724, -1.0027, -1.3164,  ...,  0.0431, -0.5495, -0.7238],\n",
      "          [-1.0898, -1.0201, -1.3164,  ...,  0.0605, -0.4973, -0.7064],\n",
      "          ...,\n",
      "          [-1.5953, -1.5953, -1.5953,  ..., -1.6650, -1.6824, -1.6650],\n",
      "          [-1.5953, -1.5953, -1.5953,  ..., -1.7173, -1.7522, -1.6999],\n",
      "          [-1.5953, -1.5953, -1.5953,  ..., -1.7173, -1.7347, -1.7173]]],\n",
      "\n",
      "\n",
      "        [[[ 1.2899,  0.6221,  0.3652,  ...,  0.6734,  1.2899,  0.9474],\n",
      "          [ 1.2385,  0.6221,  0.3823,  ...,  0.9817,  0.6392,  0.7419],\n",
      "          [ 1.2385,  0.6392,  0.3823,  ...,  0.7762,  0.6734,  0.8789],\n",
      "          ...,\n",
      "          [ 0.3309,  0.2111,  0.1426,  ..., -0.6623, -0.2856, -0.2342],\n",
      "          [ 0.3309,  0.2282,  0.1597,  ..., -0.8164, -0.4911, -0.0801],\n",
      "          [ 0.3481,  0.2282,  0.1768,  ..., -0.9534, -0.6794, -0.1486]],\n",
      "\n",
      "         [[ 1.1506,  0.5553,  0.3803,  ...,  0.8529,  1.3606,  0.9230],\n",
      "          [ 1.1155,  0.5553,  0.3803,  ...,  1.0455,  0.6078,  0.6954],\n",
      "          [ 1.1155,  0.5553,  0.3803,  ...,  0.8179,  0.6604,  0.8179],\n",
      "          ...,\n",
      "          [ 0.2052,  0.1352,  0.0476,  ..., -0.6527, -0.2500, -0.2150],\n",
      "          [ 0.2227,  0.1352,  0.0476,  ..., -0.7927, -0.4776, -0.0924],\n",
      "          [ 0.2402,  0.1001,  0.0301,  ..., -0.8978, -0.6527, -0.1800]],\n",
      "\n",
      "         [[ 1.0888,  0.5485,  0.5311,  ...,  0.8099,  1.3154,  0.9668],\n",
      "          [ 1.1062,  0.5834,  0.5659,  ...,  1.0539,  0.6531,  0.8099],\n",
      "          [ 1.1062,  0.5659,  0.5311,  ...,  0.8622,  0.7925,  0.9842],\n",
      "          ...,\n",
      "          [ 0.1999,  0.0953,  0.0082,  ..., -0.3927, -0.0790, -0.0441],\n",
      "          [ 0.2173,  0.1128, -0.0092,  ..., -0.5321, -0.3230,  0.0605],\n",
      "          [ 0.2522,  0.1128,  0.0256,  ..., -0.6541, -0.5321, -0.0615]]],\n",
      "\n",
      "\n",
      "        ...,\n",
      "\n",
      "\n",
      "        [[[ 1.6667,  1.9749,  2.0263,  ..., -0.9705, -1.1075, -1.1589],\n",
      "          [ 1.5468,  1.6495,  1.7865,  ..., -1.2103, -1.2788, -0.8678],\n",
      "          [ 1.5125,  1.9920,  1.5297,  ..., -1.4158, -0.9363, -0.6965],\n",
      "          ...,\n",
      "          [ 0.0227,  0.1083,  0.1597,  ..., -1.2103, -1.2445, -1.0390],\n",
      "          [-0.0287,  0.1083,  0.1597,  ..., -1.2103, -1.1932, -0.9192],\n",
      "          [ 0.0569,  0.1426,  0.1254,  ..., -1.1589, -1.1932, -1.0219]],\n",
      "\n",
      "         [[ 1.8333,  2.2535,  2.3235,  ..., -1.0203, -1.1429, -1.1954],\n",
      "          [ 1.8508,  1.9034,  2.0784,  ..., -1.2304, -1.3004, -0.8978],\n",
      "          [ 1.7458,  2.2360,  1.8158,  ..., -1.4405, -0.9503, -0.7227],\n",
      "          ...,\n",
      "          [ 0.2577,  0.3452,  0.3803,  ..., -1.0728, -1.1078, -0.8978],\n",
      "          [ 0.1877,  0.3627,  0.4503,  ..., -1.0903, -1.0728, -0.7927],\n",
      "          [ 0.3627,  0.4328,  0.3978,  ..., -1.0728, -1.0903, -0.9328]],\n",
      "\n",
      "         [[ 2.1520,  2.4483,  2.5877,  ..., -0.8284, -0.9504, -1.0201],\n",
      "          [ 2.1346,  2.1868,  2.3437,  ..., -1.0550, -1.1247, -0.7064],\n",
      "          [ 2.0300,  2.5180,  2.0823,  ..., -1.2467, -0.7936, -0.5670],\n",
      "          ...,\n",
      "          [ 0.5485,  0.6531,  0.7054,  ..., -0.8633, -0.8981, -0.7238],\n",
      "          [ 0.4614,  0.7054,  0.8099,  ..., -0.8981, -0.8807, -0.6018],\n",
      "          [ 0.6356,  0.7576,  0.7576,  ..., -0.8981, -0.8981, -0.7413]]],\n",
      "\n",
      "\n",
      "        [[[ 1.7009,  1.6838,  1.6324,  ...,  0.2453, -0.0287, -0.4739],\n",
      "          [ 1.6667,  1.6667,  1.6324,  ...,  0.2453,  0.0569, -0.4226],\n",
      "          [ 1.6495,  1.6495,  1.5982,  ...,  0.2453,  0.1083, -0.3541],\n",
      "          ...,\n",
      "          [-0.4226, -0.5596, -0.2684,  ..., -0.5938, -0.6281, -0.6452],\n",
      "          [-0.3712, -0.4568, -0.0287,  ..., -0.5767, -0.5596, -0.5082],\n",
      "          [-0.3369, -0.4054,  0.1254,  ..., -0.4568, -0.5082, -0.7137]],\n",
      "\n",
      "         [[ 1.6933,  1.6583,  1.6232,  ...,  0.3978,  0.0826, -0.4076],\n",
      "          [ 1.6933,  1.6583,  1.6057,  ...,  0.3978,  0.1702, -0.3550],\n",
      "          [ 1.6758,  1.6758,  1.5882,  ...,  0.3803,  0.2227, -0.2850],\n",
      "          ...,\n",
      "          [-0.2325, -0.3725, -0.1275,  ..., -0.4426, -0.4076, -0.3725],\n",
      "          [-0.1800, -0.2675,  0.1176,  ..., -0.2850, -0.2150, -0.1450],\n",
      "          [-0.1450, -0.2150,  0.2752,  ..., -0.1275, -0.2500, -0.5301]],\n",
      "\n",
      "         [[ 1.4722,  1.4374,  1.3502,  ...,  0.4439,  0.1476, -0.3055],\n",
      "          [ 1.4722,  1.4548,  1.3328,  ...,  0.4614,  0.2348, -0.2532],\n",
      "          [ 1.4722,  1.4548,  1.2980,  ...,  0.4614,  0.3045, -0.2010],\n",
      "          ...,\n",
      "          [-0.2532, -0.4275, -0.0964,  ..., -0.2358, -0.2707, -0.2010],\n",
      "          [-0.1835, -0.3055,  0.1476,  ..., -0.0092,  0.0431,  0.1651],\n",
      "          [-0.1487, -0.2358,  0.3393,  ...,  0.2871,  0.1825, -0.0092]]],\n",
      "\n",
      "\n",
      "        [[[ 1.2557,  0.4166,  0.2967,  ..., -0.1999, -0.5767, -0.9877],\n",
      "          [ 0.8104,  0.8447,  0.3481,  ..., -0.8849, -0.6452, -0.6794],\n",
      "          [ 0.3823,  0.6906,  0.9303,  ..., -0.6623, -0.0287, -0.1999],\n",
      "          ...,\n",
      "          [ 0.9817,  0.8447,  0.7762,  ...,  0.3481,  0.2796,  0.4851],\n",
      "          [ 0.9303,  0.7762,  0.5022,  ...,  0.5707,  0.4679,  0.3994],\n",
      "          [ 0.8961,  0.8104, -0.4739,  ...,  0.6392,  0.3994,  0.2796]],\n",
      "\n",
      "         [[ 1.0105,  0.2227, -0.0924,  ..., -0.0224, -0.3725, -0.7577],\n",
      "          [ 0.4503,  0.6604,  0.0651,  ..., -0.8452, -0.4951, -0.4776],\n",
      "          [-0.2675,  0.2227,  0.8529,  ..., -0.6001,  0.1702,  0.0301],\n",
      "          ...,\n",
      "          [ 1.2381,  1.1506,  1.0805,  ...,  0.6604,  0.5378,  0.7304],\n",
      "          [ 1.1856,  1.1331,  0.8529,  ...,  0.8704,  0.7304,  0.6429],\n",
      "          [ 1.1856,  1.1856, -0.1275,  ...,  0.9055,  0.6779,  0.5378]],\n",
      "\n",
      "         [[ 1.0191,  0.1476, -0.0092,  ...,  0.2871, -0.0615, -0.3927],\n",
      "          [ 0.4614,  0.6182,  0.1302,  ..., -0.5495, -0.1487, -0.0441],\n",
      "          [-0.2184,  0.2522,  0.8448,  ..., -0.3055,  0.5834,  0.5136],\n",
      "          ...,\n",
      "          [ 1.4722,  1.3851,  1.2980,  ...,  0.9319,  0.8274,  1.0191],\n",
      "          [ 1.4374,  1.3502,  1.0365,  ...,  1.1411,  1.0191,  0.9494],\n",
      "          [ 1.4200,  1.3677,  0.0605,  ...,  1.2108,  0.9842,  0.8622]]]]), 'img2': tensor([[[[-0.2342, -0.2684, -0.0458,  ..., -0.5767,  0.4337,  0.1083],\n",
      "          [-1.1247, -1.3987, -0.9363,  ..., -0.0972, -0.5596,  0.2111],\n",
      "          [-0.3198, -0.0629,  0.1254,  ..., -0.6109, -0.0801,  0.8447],\n",
      "          ...,\n",
      "          [-1.4843, -1.0219, -1.0219,  ..., -1.3644, -1.1760, -1.3644],\n",
      "          [-1.5185, -0.7479, -1.3815,  ..., -1.2103, -1.3815, -0.9705],\n",
      "          [-1.4843, -1.1932, -1.6384,  ..., -1.3473, -1.2274, -1.2274]],\n",
      "\n",
      "         [[-0.1275,  0.0126, -1.3529,  ..., -0.3725, -0.2500, -0.1450],\n",
      "          [-0.9153, -0.9853, -0.9153,  ..., -1.3004, -0.3550,  0.3978],\n",
      "          [-0.9503, -1.0028,  0.4153,  ..., -0.4251,  1.1331,  0.8354],\n",
      "          ...,\n",
      "          [-0.7752, -1.3529, -1.1253,  ..., -0.1450, -0.8627, -0.9153],\n",
      "          [-1.3880, -0.8452, -0.9328,  ..., -0.1800, -0.2850, -1.2479],\n",
      "          [-0.8452, -0.9503, -0.7577,  ..., -0.6877, -1.3004, -0.5301]],\n",
      "\n",
      "         [[-0.7238, -0.4275, -0.3230,  ..., -1.2641,  0.3916,  1.5420],\n",
      "          [-1.1073, -1.4036, -1.3687,  ..., -0.5147,  0.5485,  1.5768],\n",
      "          [-0.1835, -0.7761, -1.2990,  ..., -0.0441,  0.4091,  0.3393],\n",
      "          ...,\n",
      "          [-0.3230, -0.5147, -1.2467,  ..., -0.6018, -0.2010, -0.1661],\n",
      "          [ 0.2173, -0.3927, -0.6890,  ..., -1.0550, -0.9853, -0.5844],\n",
      "          [ 0.0605, -0.4101,  0.3219,  ..., -0.7761, -0.7936, -0.4798]]],\n",
      "\n",
      "\n",
      "        [[[ 1.6667, -0.8849, -0.9877,  ..., -1.2445, -1.2788, -1.0733],\n",
      "          [ 0.3994, -0.7650, -0.8849,  ..., -1.3473, -1.8610, -1.6213],\n",
      "          [ 0.6906, -0.9877,  0.1768,  ..., -0.9877, -1.5528, -1.2788],\n",
      "          ...,\n",
      "          [-0.0287, -0.5253, -0.0801,  ..., -2.0665, -2.0323, -2.0665],\n",
      "          [ 2.0948,  1.1358, -0.6965,  ..., -2.0837, -2.0665, -2.0837],\n",
      "          [ 0.6563,  0.7933,  1.3584,  ..., -2.0494, -2.1008, -2.0837]],\n",
      "\n",
      "         [[ 1.2906,  0.5028, -0.7752,  ..., -1.0728, -1.1954, -1.5280],\n",
      "          [-0.2850, -0.2675, -0.5651,  ..., -1.2129, -1.6856, -1.0203],\n",
      "          [-0.6527, -1.2304, -0.5651,  ..., -1.2129, -1.4405, -0.4951],\n",
      "          ...,\n",
      "          [-1.3004, -1.3880, -0.9328,  ..., -1.7031, -1.8256, -1.8081],\n",
      "          [ 0.2227, -0.4601, -1.4405,  ..., -1.9832, -1.8256, -1.6331],\n",
      "          [-0.4951, -0.4601, -0.1625,  ..., -2.0357, -1.7731, -1.7381]],\n",
      "\n",
      "         [[ 0.0082, -1.1770,  0.8099,  ..., -1.4733, -1.8044, -1.2641],\n",
      "          [-0.2707, -0.0441,  1.4897,  ..., -1.2990, -1.3513, -0.7587],\n",
      "          [ 0.5659, -0.1312, -0.4624,  ..., -1.5256, -1.0376, -1.1421],\n",
      "          ...,\n",
      "          [-1.7696, -1.7696, -1.7173,  ..., -1.5256, -1.6302, -1.6127],\n",
      "          [-1.6999, -1.7522, -1.7696,  ..., -1.5953, -1.5779, -1.4907],\n",
      "          [-1.6650, -1.6824, -1.7347,  ..., -1.6476, -1.6127, -1.6302]]],\n",
      "\n",
      "\n",
      "        [[[-0.3027,  1.2728,  0.2967,  ..., -0.5253,  0.9303,  1.9749],\n",
      "          [ 0.3652,  1.9920,  1.3927,  ...,  0.2282,  0.1083,  2.0263],\n",
      "          [ 1.1358,  0.9303,  0.0398,  ...,  0.9817, -1.1589,  0.0056],\n",
      "          ...,\n",
      "          [-0.7308,  0.4508,  1.3413,  ...,  0.8104, -1.0733, -0.0972],\n",
      "          [ 0.0569,  0.7077,  0.2453,  ...,  2.0948,  0.9303,  1.5125],\n",
      "          [-1.5185,  0.7762,  1.7009,  ...,  0.1597, -1.2788, -1.0390]],\n",
      "\n",
      "         [[-1.3704, -1.1954,  0.2402,  ..., -0.1099, -1.0728,  0.8529],\n",
      "          [ 0.2227, -1.1604,  0.7304,  ...,  0.2752, -1.5630,  1.0280],\n",
      "          [ 2.3936,  0.7479,  1.1331,  ...,  0.2752, -1.5280, -0.6527],\n",
      "          ...,\n",
      "          [ 1.7633,  0.8529,  0.9055,  ..., -0.4951,  1.9034,  2.3761],\n",
      "          [ 0.2927,  0.8529,  0.9580,  ..., -0.8627,  0.3102,  2.0434],\n",
      "          [ 0.6078,  0.5203, -0.6877,  ...,  1.2731, -0.2850, -0.3375]],\n",
      "\n",
      "         [[-0.4973,  0.8099,  2.0997,  ..., -0.0964,  1.1411,  1.1759],\n",
      "          [ 1.1411,  0.8448,  2.0300,  ..., -0.0092,  0.5311,  1.4374],\n",
      "          [ 0.5834,  0.5136,  0.7402,  ...,  1.9777,  0.1302,  0.6182],\n",
      "          ...,\n",
      "          [-1.2467, -0.8633,  0.0605,  ..., -0.8981,  0.5136,  1.1585],\n",
      "          [ 1.0539,  1.1934,  0.4962,  ..., -0.8110,  0.9145,  2.1520],\n",
      "          [-0.2532, -0.5147,  0.2871,  ..., -1.3861,  0.5136,  1.2631]]],\n",
      "\n",
      "\n",
      "        ...,\n",
      "\n",
      "\n",
      "        [[[ 1.4098,  0.6221,  1.0159,  ..., -1.4843, -1.3473, -1.2274],\n",
      "          [ 0.0912,  0.0056,  1.4098,  ..., -1.8268, -1.6555, -1.8610],\n",
      "          [ 0.1939, -0.1486, -0.1657,  ..., -1.5185, -1.5699, -0.8849],\n",
      "          ...,\n",
      "          [-0.5424, -0.5082, -0.0972,  ..., -1.3644, -1.5699, -1.8610],\n",
      "          [ 0.6392,  0.1768, -1.6213,  ..., -1.5528, -1.6384, -1.7925],\n",
      "          [ 0.4679,  0.3994,  0.2111,  ..., -1.6213, -2.0837, -1.3987]],\n",
      "\n",
      "         [[ 1.4657,  0.9230,  1.1155,  ..., -1.4055, -1.7381, -1.2479],\n",
      "          [-0.1625,  0.2227,  1.3606,  ..., -1.6331, -1.6506, -1.3354],\n",
      "          [-0.2500,  0.6779,  1.7283,  ..., -1.3004, -1.6856, -0.8102],\n",
      "          ...,\n",
      "          [-0.2150, -0.0224, -0.7752,  ..., -1.6681, -1.5455, -1.2479],\n",
      "          [-0.6527, -0.3200, -0.4426,  ..., -1.4405, -1.2479, -1.0028],\n",
      "          [-0.0049, -0.5826,  0.3277,  ..., -1.0378, -1.1253, -1.1253]],\n",
      "\n",
      "         [[ 0.5311, -0.0092,  0.9842,  ..., -1.1247, -1.5953, -1.3164],\n",
      "          [ 0.2696,  1.0714,  1.0714,  ..., -1.2816, -1.3687, -1.5081],\n",
      "          [-0.0790,  1.4722,  1.7685,  ..., -1.2293, -1.5081, -1.4559],\n",
      "          ...,\n",
      "          [-0.7761, -0.5147,  0.9145,  ..., -1.2990, -1.0376, -1.5256],\n",
      "          [-0.0441, -0.0092,  0.4962,  ..., -0.9156, -0.9504, -1.2293],\n",
      "          [ 0.5311, -1.0027, -0.1487,  ..., -1.4210, -1.7870, -1.5604]]],\n",
      "\n",
      "\n",
      "        [[[-1.0562, -0.7993, -1.1760,  ..., -1.0562, -0.5596, -0.3027],\n",
      "          [-0.8849, -0.3541, -0.7479,  ..., -0.0801, -0.3369,  0.3309],\n",
      "          [ 0.0912,  0.7762, -0.7308,  ...,  0.9303, -0.5082, -0.2171],\n",
      "          ...,\n",
      "          [-1.9980, -1.9124, -1.9638,  ..., -1.2617, -0.8164, -1.2274],\n",
      "          [-1.9467, -1.9467, -2.0323,  ..., -0.6452, -1.0048, -0.0972],\n",
      "          [-1.8953, -1.9467, -1.9809,  ...,  0.6392, -0.6109, -0.0116]],\n",
      "\n",
      "         [[-0.7577, -1.2654, -0.8452,  ...,  0.4853,  0.7654, -0.0749],\n",
      "          [-1.7206, -1.3880,  0.3627,  ..., -0.1450,  0.2052,  0.6954],\n",
      "          [-1.3704, -1.0728,  1.0805,  ...,  0.0476, -0.7402, -0.7227],\n",
      "          ...,\n",
      "          [-1.9132, -1.8431, -1.9657,  ..., -0.2500,  1.2206,  0.5728],\n",
      "          [-1.8957, -1.9132, -2.0007,  ...,  0.6954,  0.8179,  0.0476],\n",
      "          [-1.8081, -1.8256, -1.9657,  ..., -0.6877,  0.0651, -0.1975]],\n",
      "\n",
      "         [[-1.0201, -0.6715, -0.5670,  ..., -0.0441,  0.5136,  0.4788],\n",
      "          [-0.7761, -1.0376,  0.3393,  ...,  0.3742,  1.6640,  1.7860],\n",
      "          [-1.0027, -1.1421,  1.0888,  ...,  0.4788,  1.3502,  1.2980],\n",
      "          ...,\n",
      "          [-1.7522, -1.7173, -1.7870,  ..., -0.5147,  1.1237,  1.6117],\n",
      "          [-1.7347, -1.7347, -1.7696,  ..., -0.2184, -0.5844,  0.2173],\n",
      "          [-1.7173, -1.7173, -1.7522,  ...,  0.7925, -0.3753, -0.6367]]],\n",
      "\n",
      "\n",
      "        [[[-0.3027,  0.1083,  0.7933,  ...,  0.9988,  0.3138, -0.1657],\n",
      "          [ 0.5022,  0.9474,  0.9646,  ..., -0.9192, -1.1760, -0.4911],\n",
      "          [-0.1999,  0.7933,  0.9132,  ..., -0.3883, -0.3198, -0.0287],\n",
      "          ...,\n",
      "          [-1.3302, -0.8849, -0.7650,  ..., -1.3644,  0.0056, -1.0733],\n",
      "          [-0.7479, -0.6281, -0.8507,  ...,  0.6734, -0.2513, -1.6042],\n",
      "          [-0.3541, -0.4568, -0.7479,  ...,  1.1529,  1.0844, -0.2513]],\n",
      "\n",
      "         [[-0.2850, -0.6877, -0.0224,  ..., -0.0574,  0.4153, -0.0924],\n",
      "          [ 0.3277,  1.0455,  1.1681,  ..., -1.0728, -0.1275, -0.3550],\n",
      "          [ 0.5203,  1.2381,  1.4657,  ..., -1.0203, -0.5826, -0.5651],\n",
      "          ...,\n",
      "          [ 0.2577,  0.0826, -0.2150,  ..., -1.3179, -0.1800,  0.4503],\n",
      "          [-0.3200, -0.1275, -0.4076,  ..., -0.8102, -0.6176,  1.0280],\n",
      "          [-0.9328, -1.0028, -0.5826,  ..., -0.5826, -0.3200,  0.9230]],\n",
      "\n",
      "         [[ 0.9319,  0.3393,  0.9668,  ...,  0.8448,  0.6008, -0.2707],\n",
      "          [ 1.0888,  1.3328, -0.0790,  ..., -0.4798,  0.4091,  0.6879],\n",
      "          [-0.0615,  0.7228,  1.3677,  ...,  0.6356, -0.8284, -0.2707],\n",
      "          ...,\n",
      "          [ 0.3916, -0.6018, -0.4973,  ...,  0.6356,  0.3219,  0.0605],\n",
      "          [-0.5844, -0.1487, -0.2532,  ...,  0.3393,  0.4091,  0.0953],\n",
      "          [-0.3578, -0.3753, -0.0441,  ...,  1.6988, -0.2010,  0.0953]]]]), 'aflow': tensor([[[[ 7.0297e+00,  8.3464e+00,  9.0047e+00,  ...,  1.8741e+02,\n",
      "            1.8807e+02,  1.8939e+02],\n",
      "          [ 6.9827e+00,  8.2998e+00,  8.9584e+00,  ...,  1.8743e+02,\n",
      "            1.8809e+02,  1.8940e+02],\n",
      "          [ 6.9591e+00,  8.2765e+00,  8.9352e+00,  ...,  1.8744e+02,\n",
      "            1.8810e+02,  1.8941e+02],\n",
      "          ...,\n",
      "          [ 2.6331e-01,  1.6465e+00,  2.3381e+00,  ...,  1.8976e+02,\n",
      "            1.9045e+02,  1.9183e+02],\n",
      "          [ 2.3736e-01,  1.6208e+00,  2.3125e+00,  ...,  1.8977e+02,\n",
      "            1.9046e+02,  1.9184e+02],\n",
      "          [ 1.8544e-01,  1.5694e+00,  2.2613e+00,  ...,  1.8978e+02,\n",
      "            1.9048e+02,  1.9186e+02]],\n",
      "\n",
      "         [[ 9.0855e+00,  9.0855e+00,  9.0855e+00,  ...,  9.0855e+00,\n",
      "            9.0855e+00,  9.0855e+00],\n",
      "          [ 1.0338e+01,  1.0338e+01,  1.0338e+01,  ...,  1.0338e+01,\n",
      "            1.0338e+01,  1.0338e+01],\n",
      "          [ 1.0964e+01,  1.0964e+01,  1.0964e+01,  ...,  1.0964e+01,\n",
      "            1.0964e+01,  1.0964e+01],\n",
      "          ...,\n",
      "          [ 1.8924e+02,  1.8924e+02,  1.8924e+02,  ...,  1.8924e+02,\n",
      "            1.8924e+02,  1.8924e+02],\n",
      "          [ 1.8993e+02,  1.8993e+02,  1.8993e+02,  ...,  1.8993e+02,\n",
      "            1.8993e+02,  1.8993e+02],\n",
      "          [ 1.9131e+02,  1.9131e+02,  1.9131e+02,  ...,  1.9131e+02,\n",
      "            1.9131e+02,  1.9131e+02]]],\n",
      "\n",
      "\n",
      "        [[[ 1.1488e-02,  1.1169e+00,  2.2223e+00,  ...,  2.0893e+02,\n",
      "            2.1004e+02,  2.1114e+02],\n",
      "          [-1.7996e-01,  9.2644e-01,  2.0328e+00,  ...,  2.0893e+02,\n",
      "            2.1004e+02,  2.1114e+02],\n",
      "          [-3.7176e-01,  7.3564e-01,  1.8430e+00,  ...,  2.0893e+02,\n",
      "            2.1003e+02,  2.1114e+02],\n",
      "          ...,\n",
      "          [-4.3539e+01, -4.2207e+01, -4.0875e+01,  ...,  2.0814e+02,\n",
      "            2.0947e+02,  2.1080e+02],\n",
      "          [-4.3817e+01, -4.2484e+01, -4.1150e+01,  ...,  2.0814e+02,\n",
      "            2.0947e+02,  2.1080e+02],\n",
      "          [-4.4095e+01, -4.2761e+01, -4.1426e+01,  ...,  2.0813e+02,\n",
      "            2.0947e+02,  2.1080e+02]],\n",
      "\n",
      "         [[ 2.3545e+01,  2.3545e+01,  2.3545e+01,  ...,  2.3545e+01,\n",
      "            2.3545e+01,  2.3545e+01],\n",
      "          [ 2.4232e+01,  2.4232e+01,  2.4232e+01,  ...,  2.4232e+01,\n",
      "            2.4232e+01,  2.4232e+01],\n",
      "          [ 2.4920e+01,  2.4920e+01,  2.4920e+01,  ...,  2.4920e+01,\n",
      "            2.4920e+01,  2.4920e+01],\n",
      "          ...,\n",
      "          [ 1.7978e+02,  1.7978e+02,  1.7978e+02,  ...,  1.7978e+02,\n",
      "            1.7978e+02,  1.7978e+02],\n",
      "          [ 1.8077e+02,  1.8077e+02,  1.8077e+02,  ...,  1.8077e+02,\n",
      "            1.8077e+02,  1.8077e+02],\n",
      "          [ 1.8177e+02,  1.8177e+02,  1.8177e+02,  ...,  1.8177e+02,\n",
      "            1.8177e+02,  1.8177e+02]]],\n",
      "\n",
      "\n",
      "        [[[ 2.4873e+01,  2.5914e+01,  2.6951e+01,  ...,  1.7432e+02,\n",
      "            1.7492e+02,  1.7552e+02],\n",
      "          [ 2.4873e+01,  2.5914e+01,  2.6951e+01,  ...,  1.7432e+02,\n",
      "            1.7492e+02,  1.7552e+02],\n",
      "          [ 2.4873e+01,  2.5914e+01,  2.6951e+01,  ...,  1.7432e+02,\n",
      "            1.7492e+02,  1.7552e+02],\n",
      "          ...,\n",
      "          [ 2.4873e+01,  2.5914e+01,  2.6951e+01,  ...,  1.7432e+02,\n",
      "            1.7492e+02,  1.7552e+02],\n",
      "          [ 2.4873e+01,  2.5914e+01,  2.6951e+01,  ...,  1.7432e+02,\n",
      "            1.7492e+02,  1.7552e+02],\n",
      "          [ 2.4873e+01,  2.5914e+01,  2.6951e+01,  ...,  1.7432e+02,\n",
      "            1.7492e+02,  1.7552e+02]],\n",
      "\n",
      "         [[-6.2859e+01, -6.2438e+01, -6.2017e+01,  ..., -2.3048e+00,\n",
      "           -2.0620e+00, -1.8199e+00],\n",
      "          [-6.1361e+01, -6.0942e+01, -6.0524e+01,  ..., -1.1682e+00,\n",
      "           -9.2691e-01, -6.8620e-01],\n",
      "          [-5.9863e+01, -5.9447e+01, -5.9031e+01,  ..., -3.1681e-02,\n",
      "            2.0819e-01,  4.4745e-01],\n",
      "          ...,\n",
      "          [ 2.2027e+02,  2.2022e+02,  2.2017e+02,  ...,  2.1250e+02,\n",
      "            2.1247e+02,  2.1244e+02],\n",
      "          [ 2.2177e+02,  2.2172e+02,  2.2166e+02,  ...,  2.1364e+02,\n",
      "            2.1361e+02,  2.1357e+02],\n",
      "          [ 2.2327e+02,  2.2321e+02,  2.2315e+02,  ...,  2.1478e+02,\n",
      "            2.1474e+02,  2.1471e+02]]],\n",
      "\n",
      "\n",
      "        ...,\n",
      "\n",
      "\n",
      "        [[[ 1.0221e+01,  1.1302e+01,  1.1843e+01,  ...,  1.8844e+02,\n",
      "            1.8911e+02,  1.9045e+02],\n",
      "          [ 1.0221e+01,  1.1302e+01,  1.1843e+01,  ...,  1.8844e+02,\n",
      "            1.8911e+02,  1.9045e+02],\n",
      "          [ 1.0221e+01,  1.1302e+01,  1.1843e+01,  ...,  1.8844e+02,\n",
      "            1.8911e+02,  1.9045e+02],\n",
      "          ...,\n",
      "          [ 1.0221e+01,  1.1302e+01,  1.1843e+01,  ...,  1.8844e+02,\n",
      "            1.8911e+02,  1.9045e+02],\n",
      "          [ 1.0221e+01,  1.1302e+01,  1.1843e+01,  ...,  1.8844e+02,\n",
      "            1.8911e+02,  1.9045e+02],\n",
      "          [ 1.0221e+01,  1.1302e+01,  1.1843e+01,  ...,  1.8844e+02,\n",
      "            1.8911e+02,  1.9045e+02]],\n",
      "\n",
      "         [[-5.3983e-01, -5.8424e-01, -6.0648e-01,  ..., -7.8652e+00,\n",
      "           -7.8928e+00, -7.9481e+00],\n",
      "          [ 7.5031e-01,  7.0680e-01,  6.8503e-01,  ..., -6.4263e+00,\n",
      "           -6.4534e+00, -6.5075e+00],\n",
      "          [ 1.3954e+00,  1.3523e+00,  1.3308e+00,  ..., -5.7069e+00,\n",
      "           -5.7337e+00, -5.7873e+00],\n",
      "          ...,\n",
      "          [ 1.9040e+02,  1.9049e+02,  1.9054e+02,  ...,  2.0509e+02,\n",
      "            2.0515e+02,  2.0526e+02],\n",
      "          [ 1.9105e+02,  1.9114e+02,  1.9118e+02,  ...,  2.0581e+02,\n",
      "            2.0587e+02,  2.0598e+02],\n",
      "          [ 1.9234e+02,  1.9243e+02,  1.9247e+02,  ...,  2.0725e+02,\n",
      "            2.0730e+02,  2.0742e+02]]],\n",
      "\n",
      "\n",
      "        [[[-8.3167e+00, -7.2872e+00, -6.2578e+00,  ...,  1.8625e+02,\n",
      "            1.8728e+02,  1.8831e+02],\n",
      "          [-8.4173e+00, -7.3863e+00, -6.3552e+00,  ...,  1.8645e+02,\n",
      "            1.8749e+02,  1.8852e+02],\n",
      "          [-8.5182e+00, -7.4856e+00, -6.4529e+00,  ...,  1.8666e+02,\n",
      "            1.8769e+02,  1.8872e+02],\n",
      "          ...,\n",
      "          [-3.5159e+01, -3.3704e+01, -3.2248e+01,  ...,  2.3994e+02,\n",
      "            2.4139e+02,  2.4285e+02],\n",
      "          [-3.5361e+01, -3.3902e+01, -3.2443e+01,  ...,  2.4034e+02,\n",
      "            2.4180e+02,  2.4326e+02],\n",
      "          [-3.5563e+01, -3.4101e+01, -3.2639e+01,  ...,  2.4074e+02,\n",
      "            2.4221e+02,  2.4367e+02]],\n",
      "\n",
      "         [[ 2.8304e+01,  2.8304e+01,  2.8304e+01,  ...,  2.8304e+01,\n",
      "            2.8304e+01,  2.8304e+01],\n",
      "          [ 2.8903e+01,  2.8903e+01,  2.8903e+01,  ...,  2.8903e+01,\n",
      "            2.8903e+01,  2.8903e+01],\n",
      "          [ 2.9504e+01,  2.9504e+01,  2.9504e+01,  ...,  2.9504e+01,\n",
      "            2.9504e+01,  2.9504e+01],\n",
      "          ...,\n",
      "          [ 1.8820e+02,  1.8820e+02,  1.8820e+02,  ...,  1.8820e+02,\n",
      "            1.8820e+02,  1.8820e+02],\n",
      "          [ 1.8940e+02,  1.8940e+02,  1.8940e+02,  ...,  1.8940e+02,\n",
      "            1.8940e+02,  1.8940e+02],\n",
      "          [ 1.9060e+02,  1.9060e+02,  1.9060e+02,  ...,  1.9060e+02,\n",
      "            1.9060e+02,  1.9060e+02]]],\n",
      "\n",
      "\n",
      "        [[[-4.9931e+01, -4.8860e+01, -4.6718e+01,  ...,  2.0493e+02,\n",
      "            2.0707e+02,  2.0815e+02],\n",
      "          [-4.9624e+01, -4.8554e+01, -4.6415e+01,  ...,  2.0494e+02,\n",
      "            2.0708e+02,  2.0815e+02],\n",
      "          [-4.9013e+01, -4.7946e+01, -4.5812e+01,  ...,  2.0496e+02,\n",
      "            2.0710e+02,  2.0816e+02],\n",
      "          ...,\n",
      "          [ 7.2611e+00,  8.0995e+00,  9.7762e+00,  ...,  2.0679e+02,\n",
      "            2.0847e+02,  2.0931e+02],\n",
      "          [ 7.6367e+00,  8.4735e+00,  1.0147e+01,  ...,  2.0681e+02,\n",
      "            2.0848e+02,  2.0932e+02],\n",
      "          [ 7.8240e+00,  8.6601e+00,  1.0332e+01,  ...,  2.0681e+02,\n",
      "            2.0848e+02,  2.0932e+02]],\n",
      "\n",
      "         [[ 1.3054e+01,  1.3054e+01,  1.3054e+01,  ...,  1.3054e+01,\n",
      "            1.3054e+01,  1.3054e+01],\n",
      "          [ 1.3929e+01,  1.3929e+01,  1.3929e+01,  ...,  1.3929e+01,\n",
      "            1.3929e+01,  1.3929e+01],\n",
      "          [ 1.5673e+01,  1.5673e+01,  1.5673e+01,  ...,  1.5673e+01,\n",
      "            1.5673e+01,  1.5673e+01],\n",
      "          ...,\n",
      "          [ 1.7632e+02,  1.7632e+02,  1.7632e+02,  ...,  1.7632e+02,\n",
      "            1.7632e+02,  1.7632e+02],\n",
      "          [ 1.7739e+02,  1.7739e+02,  1.7739e+02,  ...,  1.7739e+02,\n",
      "            1.7739e+02,  1.7739e+02],\n",
      "          [ 1.7792e+02,  1.7792e+02,  1.7792e+02,  ...,  1.7792e+02,\n",
      "            1.7792e+02,  1.7792e+02]]]]), 'mask': tensor([[[1, 1, 1,  ..., 1, 1, 1],\n",
      "         [1, 1, 1,  ..., 1, 1, 1],\n",
      "         [1, 1, 1,  ..., 1, 1, 1],\n",
      "         ...,\n",
      "         [1, 1, 1,  ..., 1, 1, 1],\n",
      "         [1, 1, 1,  ..., 1, 1, 1],\n",
      "         [1, 1, 1,  ..., 1, 1, 1]],\n",
      "\n",
      "        [[1, 1, 1,  ..., 1, 1, 1],\n",
      "         [1, 1, 1,  ..., 1, 1, 1],\n",
      "         [1, 1, 1,  ..., 1, 1, 1],\n",
      "         ...,\n",
      "         [1, 1, 1,  ..., 1, 1, 1],\n",
      "         [1, 1, 1,  ..., 1, 1, 1],\n",
      "         [1, 1, 1,  ..., 1, 1, 1]],\n",
      "\n",
      "        [[1, 1, 1,  ..., 1, 1, 1],\n",
      "         [1, 1, 1,  ..., 1, 1, 1],\n",
      "         [1, 1, 1,  ..., 1, 1, 1],\n",
      "         ...,\n",
      "         [1, 1, 1,  ..., 1, 1, 1],\n",
      "         [1, 1, 1,  ..., 1, 1, 1],\n",
      "         [1, 1, 1,  ..., 1, 1, 1]],\n",
      "\n",
      "        ...,\n",
      "\n",
      "        [[1, 1, 1,  ..., 1, 1, 1],\n",
      "         [1, 1, 1,  ..., 1, 1, 1],\n",
      "         [1, 1, 1,  ..., 1, 1, 1],\n",
      "         ...,\n",
      "         [1, 1, 1,  ..., 1, 1, 1],\n",
      "         [1, 1, 1,  ..., 1, 1, 1],\n",
      "         [1, 1, 1,  ..., 1, 1, 1]],\n",
      "\n",
      "        [[1, 1, 1,  ..., 1, 1, 1],\n",
      "         [1, 1, 1,  ..., 1, 1, 1],\n",
      "         [1, 1, 1,  ..., 1, 1, 1],\n",
      "         ...,\n",
      "         [1, 1, 1,  ..., 1, 1, 1],\n",
      "         [1, 1, 1,  ..., 1, 1, 1],\n",
      "         [1, 1, 1,  ..., 1, 1, 1]],\n",
      "\n",
      "        [[1, 1, 1,  ..., 1, 1, 1],\n",
      "         [1, 1, 1,  ..., 1, 1, 1],\n",
      "         [1, 1, 1,  ..., 1, 1, 1],\n",
      "         ...,\n",
      "         [1, 1, 1,  ..., 1, 1, 1],\n",
      "         [1, 1, 1,  ..., 1, 1, 1],\n",
      "         [1, 1, 1,  ..., 1, 1, 1]]], dtype=torch.uint8)}\n"
     ]
    },
    {
     "name": "stderr",
     "output_type": "stream",
     "text": [
      "/run/media/javid/Entertainment/arco_home/ml/projects/p30_thesis/r2d2_sar/tools/dataloader.py:302: UserWarning: An output with one or more elements was resized since it had shape [884736], which does not match the required output shape [8, 3, 192, 192].This behavior is deprecated, and in a future PyTorch release outputs will not be resized unless they have zero elements. You can explicitly reuse an out tensor t by resizing it, inplace, to zero elements with t.resize_(0). (Triggered internally at  ../aten/src/ATen/native/Resize.cpp:24.)\n",
      "  return torch.stack(batch, 0, out=out)\n",
      "/run/media/javid/Entertainment/arco_home/ml/projects/p30_thesis/r2d2_sar/tools/dataloader.py:302: UserWarning: An output with one or more elements was resized since it had shape [884736], which does not match the required output shape [8, 3, 192, 192].This behavior is deprecated, and in a future PyTorch release outputs will not be resized unless they have zero elements. You can explicitly reuse an out tensor t by resizing it, inplace, to zero elements with t.resize_(0). (Triggered internally at  ../aten/src/ATen/native/Resize.cpp:24.)\n",
      "  return torch.stack(batch, 0, out=out)\n",
      "/run/media/javid/Entertainment/arco_home/ml/projects/p30_thesis/r2d2_sar/tools/dataloader.py:302: UserWarning: An output with one or more elements was resized since it had shape [884736], which does not match the required output shape [8, 3, 192, 192].This behavior is deprecated, and in a future PyTorch release outputs will not be resized unless they have zero elements. You can explicitly reuse an out tensor t by resizing it, inplace, to zero elements with t.resize_(0). (Triggered internally at  ../aten/src/ATen/native/Resize.cpp:24.)\n",
      "  return torch.stack(batch, 0, out=out)\n",
      "/run/media/javid/Entertainment/arco_home/ml/projects/p30_thesis/r2d2_sar/tools/dataloader.py:302: UserWarning: An output with one or more elements was resized since it had shape [884736], which does not match the required output shape [8, 3, 192, 192].This behavior is deprecated, and in a future PyTorch release outputs will not be resized unless they have zero elements. You can explicitly reuse an out tensor t by resizing it, inplace, to zero elements with t.resize_(0). (Triggered internally at  ../aten/src/ATen/native/Resize.cpp:24.)\n",
      "  return torch.stack(batch, 0, out=out)\n",
      "/run/media/javid/Entertainment/arco_home/ml/projects/p30_thesis/r2d2_sar/tools/dataloader.py:302: UserWarning: An output with one or more elements was resized since it had shape [884736], which does not match the required output shape [8, 3, 192, 192].This behavior is deprecated, and in a future PyTorch release outputs will not be resized unless they have zero elements. You can explicitly reuse an out tensor t by resizing it, inplace, to zero elements with t.resize_(0). (Triggered internally at  ../aten/src/ATen/native/Resize.cpp:24.)\n",
      "  return torch.stack(batch, 0, out=out)\n",
      "/run/media/javid/Entertainment/arco_home/ml/projects/p30_thesis/r2d2_sar/tools/dataloader.py:302: UserWarning: An output with one or more elements was resized since it had shape [884736], which does not match the required output shape [8, 3, 192, 192].This behavior is deprecated, and in a future PyTorch release outputs will not be resized unless they have zero elements. You can explicitly reuse an out tensor t by resizing it, inplace, to zero elements with t.resize_(0). (Triggered internally at  ../aten/src/ATen/native/Resize.cpp:24.)\n",
      "  return torch.stack(batch, 0, out=out)\n",
      "/run/media/javid/Entertainment/arco_home/ml/projects/p30_thesis/r2d2_sar/tools/dataloader.py:302: UserWarning: An output with one or more elements was resized since it had shape [884736], which does not match the required output shape [8, 3, 192, 192].This behavior is deprecated, and in a future PyTorch release outputs will not be resized unless they have zero elements. You can explicitly reuse an out tensor t by resizing it, inplace, to zero elements with t.resize_(0). (Triggered internally at  ../aten/src/ATen/native/Resize.cpp:24.)\n",
      "  return torch.stack(batch, 0, out=out)\n"
     ]
    }
   ],
   "source": [
    "for a in loader:\n",
    "    print(a)\n",
    "    break\n",
    "    "
   ]
  },
  {
   "cell_type": "code",
   "execution_count": 32,
   "metadata": {},
   "outputs": [
    {
     "ename": "NameError",
     "evalue": "name 'b' is not defined",
     "output_type": "error",
     "traceback": [
      "\u001b[0;31m---------------------------------------------------------------------------\u001b[0m",
      "\u001b[0;31mNameError\u001b[0m                                 Traceback (most recent call last)",
      "\u001b[0;32m<ipython-input-32-89e6c98d9288>\u001b[0m in \u001b[0;36m<module>\u001b[0;34m\u001b[0m\n\u001b[0;32m----> 1\u001b[0;31m \u001b[0mb\u001b[0m\u001b[0;34m\u001b[0m\u001b[0;34m\u001b[0m\u001b[0m\n\u001b[0m",
      "\u001b[0;31mNameError\u001b[0m: name 'b' is not defined"
     ]
    }
   ],
   "source": [
    "b"
   ]
  },
  {
   "cell_type": "code",
   "execution_count": 31,
   "metadata": {},
   "outputs": [],
   "source": [
    "g"
   ]
  },
  {
   "cell_type": "code",
   "execution_count": 28,
   "metadata": {
    "tags": []
   },
   "outputs": [
    {
     "ename": "TypeError",
     "evalue": "'NoneType' object is not an iterator",
     "output_type": "error",
     "traceback": [
      "\u001b[0;31m---------------------------------------------------------------------------\u001b[0m",
      "\u001b[0;31mTypeError\u001b[0m                                 Traceback (most recent call last)",
      "\u001b[0;32m<ipython-input-28-e734f8aca5ac>\u001b[0m in \u001b[0;36m<module>\u001b[0;34m\u001b[0m\n\u001b[0;32m----> 1\u001b[0;31m \u001b[0mnext\u001b[0m\u001b[0;34m(\u001b[0m\u001b[0mg\u001b[0m\u001b[0;34m)\u001b[0m\u001b[0;34m\u001b[0m\u001b[0;34m\u001b[0m\u001b[0m\n\u001b[0m",
      "\u001b[0;31mTypeError\u001b[0m: 'NoneType' object is not an iterator"
     ]
    }
   ],
   "source": [
    "next(g)"
   ]
  },
  {
   "cell_type": "code",
   "execution_count": 34,
   "metadata": {
    "tags": []
   },
   "outputs": [],
   "source": [
    "# net = load_network(network_path)\n",
    "\n",
    "net = Custom_Quad_L2Net_ConfCFS()"
   ]
  },
  {
   "cell_type": "code",
   "execution_count": 35,
   "metadata": {},
   "outputs": [
    {
     "data": {
      "text/plain": [
       "Custom_Quad_L2Net_ConfCFS(\n",
       "  (ops): ModuleList(\n",
       "    (0): Conv2d(3, 32, kernel_size=(3, 3), stride=(1, 1), padding=(1, 1))\n",
       "    (1): BatchNorm2d(32, eps=1e-05, momentum=0.1, affine=False, track_running_stats=True)\n",
       "    (2): ReLU(inplace=True)\n",
       "    (3): Conv2d(32, 32, kernel_size=(3, 3), stride=(1, 1), padding=(1, 1))\n",
       "    (4): BatchNorm2d(32, eps=1e-05, momentum=0.1, affine=False, track_running_stats=True)\n",
       "    (5): ReLU(inplace=True)\n",
       "    (6): Conv2d(32, 64, kernel_size=(3, 3), stride=(1, 1), padding=(1, 1))\n",
       "    (7): BatchNorm2d(64, eps=1e-05, momentum=0.1, affine=False, track_running_stats=True)\n",
       "    (8): ReLU(inplace=True)\n",
       "    (9): Conv2d(64, 64, kernel_size=(3, 3), stride=(1, 1), padding=(2, 2), dilation=(2, 2))\n",
       "    (10): BatchNorm2d(64, eps=1e-05, momentum=0.1, affine=False, track_running_stats=True)\n",
       "    (11): ReLU(inplace=True)\n",
       "    (12): Conv2d(64, 128, kernel_size=(3, 3), stride=(1, 1), padding=(2, 2), dilation=(2, 2))\n",
       "    (13): BatchNorm2d(128, eps=1e-05, momentum=0.1, affine=False, track_running_stats=True)\n",
       "    (14): ReLU(inplace=True)\n",
       "    (15): Conv2d(128, 128, kernel_size=(3, 3), stride=(1, 1), padding=(4, 4), dilation=(4, 4))\n",
       "    (16): BatchNorm2d(128, eps=1e-05, momentum=0.1, affine=False, track_running_stats=True)\n",
       "    (17): ReLU(inplace=True)\n",
       "    (18): Conv2d(128, 128, kernel_size=(2, 2), stride=(1, 1), padding=(2, 2), dilation=(4, 4))\n",
       "    (19): BatchNorm2d(128, eps=1e-05, momentum=0.1, affine=False, track_running_stats=True)\n",
       "    (20): Conv2d(128, 128, kernel_size=(2, 2), stride=(1, 1), padding=(4, 4), dilation=(8, 8))\n",
       "    (21): BatchNorm2d(128, eps=1e-05, momentum=0.1, affine=False, track_running_stats=True)\n",
       "    (22): Conv2d(128, 256, kernel_size=(2, 2), stride=(1, 1), padding=(8, 8), dilation=(16, 16))\n",
       "  )\n",
       "  (clf): Conv2d(256, 2, kernel_size=(1, 1), stride=(1, 1))\n",
       "  (sal): Conv2d(256, 1, kernel_size=(1, 1), stride=(1, 1))\n",
       ")"
      ]
     },
     "execution_count": 35,
     "metadata": {},
     "output_type": "execute_result"
    }
   ],
   "source": [
    "net"
   ]
  },
  {
   "cell_type": "code",
   "execution_count": null,
   "metadata": {
    "execution": {
     "iopub.execute_input": "2022-02-08T21:53:45.485416Z",
     "iopub.status.busy": "2022-02-08T21:53:45.485168Z",
     "iopub.status.idle": "2022-02-08T21:53:45.489551Z",
     "shell.execute_reply": "2022-02-08T21:53:45.488679Z",
     "shell.execute_reply.started": "2022-02-08T21:53:45.485389Z"
    }
   },
   "outputs": [],
   "source": [
    "# # initialization\n",
    "# pretrained = \"./models/faster2d2_WASF_N16.pt\"\n",
    "# checkpoint = torch.load(pretrained, lambda a,b:a)\n",
    "# net.load_pretrained(checkpoint['state_dict'])\n"
   ]
  },
  {
   "cell_type": "code",
   "execution_count": 36,
   "metadata": {
    "tags": []
   },
   "outputs": [
    {
     "name": "stdout",
     "output_type": "stream",
     "text": [
      "\n",
      ">> Creating loss = MultiLoss(\n",
      "        1, ReliabilityLoss(NghSampler2(ngh=7, subq=-8, subd=1, pos_d=3, neg_d=5, border=16,\n",
      "                            subd_neg=-8,maxpool_pos=True), base=0.5, nq=20),\n",
      "        1, CosimLoss(N=16),\n",
      "        1, PeakyLoss(N=16))\n"
     ]
    }
   ],
   "source": [
    "# create losses\n",
    "loss = loss.replace('`sampler`',sampler).replace('`N`',str(patch_size))\n",
    "print(\"\\n>> Creating loss = \" + loss)\n",
    "loss = eval(loss.replace('\\n',''))\n"
   ]
  },
  {
   "cell_type": "code",
   "execution_count": 37,
   "metadata": {
    "tags": []
   },
   "outputs": [],
   "source": [
    "# create optimizer\n",
    "optimizer = optim.Adam( [p for p in net.parameters() if p.requires_grad], \n",
    "                        lr=learning_rate, weight_decay=weight_decay)\n",
    "\n",
    "train = MyTrainer(net, loader, loss, optimizer)\n",
    "if iscuda: train = train.cuda()\n"
   ]
  },
  {
   "cell_type": "code",
   "execution_count": null,
   "metadata": {
    "tags": []
   },
   "outputs": [],
   "source": [
    "# Training loop #\n",
    "for epoch in range(epochs):\n",
    "    print(f\"\\n>> Starting epoch {epoch}...\")\n",
    "    train()\n",
    "\n",
    "print(f\"\\n>> Saving model to {save_path}\")"
   ]
  },
  {
   "cell_type": "code",
   "execution_count": 40,
   "metadata": {},
   "outputs": [
    {
     "ename": "NameError",
     "evalue": "name 'args' is not defined",
     "output_type": "error",
     "traceback": [
      "\u001b[0;31m---------------------------------------------------------------------------\u001b[0m",
      "\u001b[0;31mNameError\u001b[0m                                 Traceback (most recent call last)",
      "\u001b[0;32m<ipython-input-40-66dcfad41c76>\u001b[0m in \u001b[0;36m<module>\u001b[0;34m\u001b[0m\n\u001b[0;32m----> 1\u001b[0;31m \u001b[0margs\u001b[0m\u001b[0;34m\u001b[0m\u001b[0;34m\u001b[0m\u001b[0m\n\u001b[0m",
      "\u001b[0;31mNameError\u001b[0m: name 'args' is not defined"
     ]
    }
   ],
   "source": []
  },
  {
   "cell_type": "code",
   "execution_count": 44,
   "metadata": {},
   "outputs": [
    {
     "data": {
      "text/plain": [
       "'./trained_models/saved_model.pt'"
      ]
     },
     "execution_count": 44,
     "metadata": {},
     "output_type": "execute_result"
    }
   ],
   "source": []
  },
  {
   "cell_type": "code",
   "execution_count": 46,
   "metadata": {
    "tags": []
   },
   "outputs": [],
   "source": [
    "torch.save({'net': \"Double_descriptor\", 'state_dict': net.state_dict()}, save_path+\"/saved_model.pt\")"
   ]
  },
  {
   "cell_type": "code",
   "execution_count": null,
   "metadata": {},
   "outputs": [],
   "source": []
  },
  {
   "cell_type": "code",
   "execution_count": null,
   "metadata": {},
   "outputs": [],
   "source": []
  }
 ],
 "metadata": {
  "kernelspec": {
   "display_name": "Python 3",
   "language": "python",
   "name": "python3"
  },
  "language_info": {
   "codemirror_mode": {
    "name": "ipython",
    "version": 3
   },
   "file_extension": ".py",
   "mimetype": "text/x-python",
   "name": "python",
   "nbconvert_exporter": "python",
   "pygments_lexer": "ipython3",
   "version": "3.8.8"
  }
 },
 "nbformat": 4,
 "nbformat_minor": 4
}
